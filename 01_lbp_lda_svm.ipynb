{
 "cells": [
  {
   "cell_type": "code",
   "execution_count": 1,
   "metadata": {},
   "outputs": [],
   "source": [
    "import warnings\n",
    "warnings.filterwarnings('ignore')"
   ]
  },
  {
   "cell_type": "code",
   "execution_count": 2,
   "metadata": {
    "colab": {
     "base_uri": "https://localhost:8080/"
    },
    "id": "iHkP43zlwlho",
    "outputId": "b0f79c21-165b-4850-e15b-e2f83e98836a"
   },
   "outputs": [
    {
     "name": "stdout",
     "output_type": "stream",
     "text": [
      "Downloading...\n",
      "From: https://drive.google.com/uc?id=1_0QUBkNcL1pS0wymlIB8MbfEEeHX5PzA\n",
      "To: /home/mrvafa/Projects/Python/face-classification/Face_Recognition_Dataset.rar\n",
      "100%|██████████████████████████████████████| 45.0M/45.0M [00:12<00:00, 3.53MB/s]\n"
     ]
    }
   ],
   "source": [
    "!gdown 1_0QUBkNcL1pS0wymlIB8MbfEEeHX5PzA > /dev/null"
   ]
  },
  {
   "cell_type": "code",
   "execution_count": 3,
   "metadata": {
    "id": "yBKwV4Kbv55_"
   },
   "outputs": [],
   "source": [
    "!unrar x Face_Recognition_Dataset.rar > /dev/null"
   ]
  },
  {
   "cell_type": "code",
   "execution_count": 4,
   "metadata": {
    "id": "fzWy3DR9xUrs"
   },
   "outputs": [],
   "source": [
    "!rm -rf Face_Recognition_Dataset.rar"
   ]
  },
  {
   "cell_type": "code",
   "execution_count": 5,
   "metadata": {
    "id": "xuk-BZRvOpMo"
   },
   "outputs": [],
   "source": [
    "import os\n",
    "from PIL import Image\n",
    "\n",
    "DATASET_PATH = os.path.join('Face_Recognition_Dataset', 'CroppedYale')\n",
    "\n",
    "dataset = {}\n",
    "\n",
    "for folder_name in os.listdir(DATASET_PATH):\n",
    "  for file_name in os.listdir(os.path.join(DATASET_PATH, folder_name)):\n",
    "    if file_name.endswith('.pgm'):\n",
    "      if Image.open(os.path.join(DATASET_PATH, folder_name, file_name)).size == (168, 192):\n",
    "        if folder_name not in dataset:\n",
    "          dataset[folder_name] = []\n",
    "        else:  \n",
    "          dataset[folder_name].append(os.path.join(DATASET_PATH, folder_name, file_name))"
   ]
  },
  {
   "cell_type": "code",
   "execution_count": 6,
   "metadata": {
    "colab": {
     "base_uri": "https://localhost:8080/"
    },
    "id": "1J1M4-AMRJfl",
    "outputId": "dcbab8dc-0ea2-4e8c-fe1e-ce9931061f2c"
   },
   "outputs": [
    {
     "name": "stdout",
     "output_type": "stream",
     "text": [
      "LBP method took 0:00:25.609538.\n"
     ]
    }
   ],
   "source": [
    "import cv2\n",
    "import pywt\n",
    "from skimage.feature import local_binary_pattern\n",
    "from datetime import datetime\n",
    "\n",
    "radius = 3\n",
    "n_points = 8 * radius\n",
    "\n",
    "dataset_numpy = {}\n",
    "\n",
    "start = datetime.now()\n",
    "for label in dataset.keys():\n",
    "  dataset_numpy[label] = []\n",
    "  for file_path in dataset[label]:\n",
    "    dataset_numpy[label].append(\n",
    "        local_binary_pattern(cv2.imread(file_path, 0), n_points, radius).reshape((1, -1))\n",
    "    )\n",
    "print(f'LBP method took {datetime.now() - start}.')"
   ]
  },
  {
   "cell_type": "code",
   "execution_count": 7,
   "metadata": {
    "id": "3YxKeselTWDc"
   },
   "outputs": [],
   "source": [
    "x = []\n",
    "y = []\n",
    "\n",
    "for label in dataset_numpy.keys():\n",
    "  for image in dataset_numpy[label]:\n",
    "    x.append(image)\n",
    "    y.append(int(label[-2:]))"
   ]
  },
  {
   "cell_type": "code",
   "execution_count": 8,
   "metadata": {
    "id": "XSM3oLoMXui-"
   },
   "outputs": [],
   "source": [
    "import numpy as np\n",
    "\n",
    "x = np.asmatrix(np.asarray(x))\n",
    "y = np.asmatrix(y)"
   ]
  },
  {
   "cell_type": "code",
   "execution_count": 9,
   "metadata": {
    "id": "v9JZ9mc1eaXU"
   },
   "outputs": [],
   "source": [
    "from sklearn.model_selection import train_test_split\n",
    "\n",
    "x_train, x_test, y_train, y_test = train_test_split(x, y.T, test_size=0.2, shuffle=True)"
   ]
  },
  {
   "cell_type": "code",
   "execution_count": 10,
   "metadata": {
    "colab": {
     "base_uri": "https://localhost:8080/"
    },
    "id": "ZRjpWQYFirqE",
    "outputId": "764de010-25df-4f12-ccd3-5c4e6289c795"
   },
   "outputs": [
    {
     "name": "stdout",
     "output_type": "stream",
     "text": [
      "LDA method took 0:00:30.246890\n"
     ]
    }
   ],
   "source": [
    "from sklearn.discriminant_analysis import LinearDiscriminantAnalysis as LDA\n",
    "\n",
    "start = datetime.now()\n",
    "lda = LDA(n_components=30)\n",
    "x_train = lda.fit_transform(x_train, y_train)\n",
    "print(f'LDA method took {datetime.now() - start}')\n",
    "x_test = lda.transform(x_test)"
   ]
  },
  {
   "cell_type": "code",
   "execution_count": 11,
   "metadata": {
    "colab": {
     "base_uri": "https://localhost:8080/"
    },
    "id": "gT4bFg_WYRVy",
    "outputId": "b6b5ff99-7aaf-4a72-9f38-1a6bd2b34241"
   },
   "outputs": [
    {
     "name": "stdout",
     "output_type": "stream",
     "text": [
      "best_accuracy 1.0\n",
      "avg_accuracy 0.9943662165885918\n"
     ]
    }
   ],
   "source": [
    "import math\n",
    "from sklearn import svm, metrics\n",
    "from sklearn.model_selection import KFold\n",
    "from datetime import datetime\n",
    "kfold = KFold(n_splits=10, shuffle=True)\n",
    "\n",
    "best_model = None\n",
    "best_accuracy = -math.inf\n",
    "sum_accuracy = 0\n",
    "\n",
    "kernels = ['sigmoid', 'rbf']\n",
    "\n",
    "decision_function_shape_list = ['ovo', 'ovr']\n",
    "\n",
    "counter = 0\n",
    "\n",
    "result = dict()\n",
    "\n",
    "for decision_function_shape in decision_function_shape_list:\n",
    "  for kernel in kernels:\n",
    "    for index, (train, test) in enumerate(kfold.split(x_train, y_train)):\n",
    "      start = datetime.now()\n",
    "      clf = svm.SVC(decision_function_shape=decision_function_shape, kernel=kernel)\n",
    "      clf.fit(x_train[train], y_train[train])\n",
    "      model_build_duration = datetime.now() - start\n",
    "      y_hat = clf.predict(x_train[test])\n",
    "      accuracy = metrics.accuracy_score(y_hat, y_train[test])\n",
    "\n",
    "      sum_accuracy += accuracy\n",
    "\n",
    "      if accuracy >= best_accuracy:\n",
    "        best_accuracy = accuracy\n",
    "        best_model = clf\n",
    "      \n",
    "      result[counter] = {\n",
    "          'duration': model_build_duration,\n",
    "          'kernel': kernel,\n",
    "          'accuracy': accuracy,\n",
    "          'decision_function_shape': decision_function_shape\n",
    "      }\n",
    "\n",
    "      counter += 1\n",
    "\n",
    "print('best_accuracy', best_accuracy)\n",
    "print('avg_accuracy', sum_accuracy / counter)"
   ]
  },
  {
   "cell_type": "code",
   "execution_count": 12,
   "metadata": {
    "colab": {
     "base_uri": "https://localhost:8080/"
    },
    "id": "rzx4VxsR-gdh",
    "outputId": "d1698736-e986-4907-b8a9-fde9163b39fb"
   },
   "outputs": [
    {
     "name": "stdout",
     "output_type": "stream",
     "text": [
      "Model properties\n",
      "rbf\n",
      "ovr\n"
     ]
    }
   ],
   "source": [
    "print('Model properties')\n",
    "print(best_model.kernel)\n",
    "print(best_model.decision_function_shape)"
   ]
  },
  {
   "cell_type": "code",
   "execution_count": 13,
   "metadata": {
    "colab": {
     "base_uri": "https://localhost:8080/",
     "height": 747
    },
    "id": "jie__8UiaRLX",
    "outputId": "6545eb86-2af7-42ee-8022-852cbad8cfe9"
   },
   "outputs": [
    {
     "name": "stdout",
     "output_type": "stream",
     "text": [
      "0.9937238493723849\n"
     ]
    },
    {
     "data": {
      "image/png": "[encoded data removed]",
      "text/plain": [
       "<Figure size 1440x864 with 2 Axes>"
      ]
     },
     "metadata": {
      "needs_background": "light"
     },
     "output_type": "display_data"
    }
   ],
   "source": [
    "from sklearn import metrics\n",
    "from sklearn.metrics import confusion_matrix\n",
    "import matplotlib.pyplot as plt\n",
    "import matplotlib\n",
    "from sklearn.metrics import confusion_matrix\n",
    "import seaborn as sb\n",
    "\n",
    "\n",
    "y_hat = best_model.predict(x_test)\n",
    "\n",
    "print(metrics.accuracy_score(y_hat, y_test))\n",
    "\n",
    "matrix = confusion_matrix(y_hat, y_test)\n",
    "\n",
    "plt.subplots(figsize=(20, 12))\n",
    "sb.heatmap(matrix, annot=True, fmt='d')\n",
    "plt.xlabel(\"Predicted\")\n",
    "plt.ylabel(\"Actual\")\n",
    "plt.title(\"Confusion Matrix\")\n",
    "plt.show()"
   ]
  },
  {
   "cell_type": "code",
   "execution_count": 14,
   "metadata": {
    "colab": {
     "base_uri": "https://localhost:8080/"
    },
    "id": "Y7D7M0fw68rX",
    "outputId": "aa2af074-0ec3-45a4-a52c-295d22252f16"
   },
   "outputs": [
    {
     "name": "stdout",
     "output_type": "stream",
     "text": [
      "              precision    recall  f1-score   support\n",
      "\n",
      "           1       1.00      1.00      1.00        12\n",
      "           2       1.00      0.91      0.95        11\n",
      "           3       1.00      1.00      1.00        10\n",
      "           4       1.00      0.92      0.96        13\n",
      "           5       1.00      1.00      1.00        15\n",
      "           6       1.00      1.00      1.00        13\n",
      "           7       1.00      1.00      1.00         7\n",
      "           8       1.00      1.00      1.00        12\n",
      "           9       1.00      1.00      1.00        13\n",
      "          10       1.00      1.00      1.00        14\n",
      "          11       1.00      1.00      1.00        10\n",
      "          12       1.00      1.00      1.00         8\n",
      "          13       1.00      1.00      1.00        11\n",
      "          15       1.00      1.00      1.00        15\n",
      "          16       1.00      1.00      1.00        18\n",
      "          17       1.00      1.00      1.00        11\n",
      "          18       1.00      1.00      1.00        13\n",
      "          19       1.00      1.00      1.00        14\n",
      "          20       1.00      1.00      1.00        14\n",
      "          21       1.00      1.00      1.00        12\n",
      "          22       1.00      1.00      1.00         9\n",
      "          23       1.00      1.00      1.00        10\n",
      "          24       1.00      1.00      1.00        16\n",
      "          25       1.00      1.00      1.00        12\n",
      "          26       1.00      1.00      1.00        12\n",
      "          27       1.00      1.00      1.00        10\n",
      "          28       1.00      1.00      1.00        14\n",
      "          29       1.00      1.00      1.00        12\n",
      "          30       1.00      1.00      1.00        15\n",
      "          31       1.00      1.00      1.00         9\n",
      "          32       1.00      1.00      1.00        10\n",
      "          33       1.00      1.00      1.00        11\n",
      "          34       1.00      1.00      1.00        13\n",
      "          35       1.00      1.00      1.00        16\n",
      "          36       0.75      1.00      0.86         9\n",
      "          37       1.00      1.00      1.00        13\n",
      "          38       1.00      0.95      0.97        20\n",
      "          39       1.00      1.00      1.00        21\n",
      "\n",
      "    accuracy                           0.99       478\n",
      "   macro avg       0.99      0.99      0.99       478\n",
      "weighted avg       1.00      0.99      0.99       478\n",
      "\n"
     ]
    }
   ],
   "source": [
    "from sklearn.metrics import confusion_matrix, classification_report\n",
    "\n",
    "np.set_printoptions(precision=2)\n",
    "print(classification_report(y_test,y_hat))"
   ]
  },
  {
   "cell_type": "code",
   "execution_count": 15,
   "metadata": {
    "colab": {
     "base_uri": "https://localhost:8080/"
    },
    "id": "5TSl3sjIufpw",
    "outputId": "542f3217-7c9c-40e3-bb03-37ccdfdd18bb"
   },
   "outputs": [
    {
     "name": "stdout",
     "output_type": "stream",
     "text": [
      "Average model creating is 0.062262475 seconds.\n"
     ]
    }
   ],
   "source": [
    "average_model_creation = 0\n",
    "for item in result.items():\n",
    "    average_model_creation += item[1]['duration'].microseconds\n",
    "average_model_creation /= len(result)\n",
    "print(f'Average model creating is {average_model_creation / 1_000_000} seconds.')"
   ]
  }
 ],
 "metadata": {
  "colab": {
   "collapsed_sections": [],
   "name": "machine-learning-project-face-recognition.ipynb",
   "provenance": []
  },
  "kernelspec": {
   "display_name": "Python 3 (ipykernel)",
   "language": "python",
   "name": "python3"
  },
  "language_info": {
   "codemirror_mode": {
    "name": "ipython",
    "version": 3
   },
   "file_extension": ".py",
   "mimetype": "text/x-python",
   "name": "python",
   "nbconvert_exporter": "python",
   "pygments_lexer": "ipython3",
   "version": "3.8.10"
  }
 },
 "nbformat": 4,
 "nbformat_minor": 4
}
